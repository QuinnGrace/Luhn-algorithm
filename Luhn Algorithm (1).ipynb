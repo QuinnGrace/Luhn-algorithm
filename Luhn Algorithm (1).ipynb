{
 "cells": [
  {
   "cell_type": "markdown",
   "metadata": {},
   "source": [
    "## How it works (according to GeeksforGeeks):\n",
    "#### Step 1 – Starting from the rightmost digit, double the value of every second digit\n",
    "#### Step 2 – If doubling of a number results in a two digit number i.e greater than 9(e.g., 6 × 2 = 12), then add the digits of the product (e.g., 12: 1 + 2 = 3, 15: 1 + 5 = 6), to get a single digit number. \n",
    "#### Step 3 – Now take the sum of all the digits.\n",
    "#### If the total modulo 10 is equal to 0 (if the total ends in zero) then the number is valid according to the Luhn formula; else it is not valid."
   ]
  },
  {
   "cell_type": "markdown",
   "metadata": {},
   "source": [
    "#### Get card number and convert to string:"
   ]
  },
  {
   "cell_type": "code",
   "execution_count": 1,
   "metadata": {},
   "outputs": [
    {
     "name": "stdout",
     "output_type": "stream",
     "text": [
      "Please enter your card number --> 228347687623\n"
     ]
    }
   ],
   "source": [
    "card_number = input(\"Please enter your card number --> \")"
   ]
  },
  {
   "cell_type": "code",
   "execution_count": 2,
   "metadata": {},
   "outputs": [
    {
     "name": "stdout",
     "output_type": "stream",
     "text": [
      "[2, 2, 8, 3, 4, 7, 6, 8, 7, 6, 2, 3]\n"
     ]
    }
   ],
   "source": [
    "card_number_list = [int(x) for x in card_number]\n",
    "print(card_number_list)\n"
   ]
  },
  {
   "cell_type": "markdown",
   "metadata": {},
   "source": [
    "#### Create sublist with only every second number from the end\n",
    "#### Make sublist of other numbers for later"
   ]
  },
  {
   "cell_type": "code",
   "execution_count": 3,
   "metadata": {},
   "outputs": [
    {
     "name": "stdout",
     "output_type": "stream",
     "text": [
      "[2, 7, 6, 4, 8, 2]\n",
      "[2, 8, 4, 6, 7, 2]\n"
     ]
    }
   ],
   "source": [
    "second_from_end = card_number_list[-2::-2]\n",
    "print(second_from_end)\n",
    "other_numbers = card_number_list[0::2]\n",
    "print(other_numbers)"
   ]
  },
  {
   "cell_type": "markdown",
   "metadata": {},
   "source": [
    "#### Sum and multiply sublist by two, unless number is 10 or more, then break into digits and sum"
   ]
  },
  {
   "cell_type": "code",
   "execution_count": 4,
   "metadata": {},
   "outputs": [
    {
     "name": "stdout",
     "output_type": "stream",
     "text": [
      "31\n"
     ]
    }
   ],
   "source": [
    "sum = 0\n",
    "for x in second_from_end:\n",
    "    result = x * 2\n",
    "    if result <= 9:\n",
    "        sum = sum + result\n",
    "    else:\n",
    "        result1 = result//10\n",
    "        result2 = result%10\n",
    "        sum = sum + result1 + result2\n",
    "print(sum)\n"
   ]
  },
  {
   "cell_type": "markdown",
   "metadata": {},
   "source": [
    "#### Add the other numbers"
   ]
  },
  {
   "cell_type": "code",
   "execution_count": 5,
   "metadata": {},
   "outputs": [
    {
     "name": "stdout",
     "output_type": "stream",
     "text": [
      "29\n"
     ]
    }
   ],
   "source": [
    "other_sum = 0\n",
    "for y in other_numbers:\n",
    "    other_sum = other_sum + y\n",
    "print(other_sum)\n",
    "\n",
    "checksum = sum + other_sum"
   ]
  },
  {
   "cell_type": "markdown",
   "metadata": {},
   "source": [
    "#### Check the checksum"
   ]
  },
  {
   "cell_type": "code",
   "execution_count": 7,
   "metadata": {},
   "outputs": [
    {
     "name": "stdout",
     "output_type": "stream",
     "text": [
      "228347687623 is a valid card.\n"
     ]
    }
   ],
   "source": [
    "if checksum%10 == 0:\n",
    "    print(f\"{card_number} is a valid card.\")\n",
    "else:\n",
    "    print(f\"{card_number} is not a valid card, please try again.\")"
   ]
  },
  {
   "cell_type": "markdown",
   "metadata": {},
   "source": [
    "## With thanks to the following sources:\n",
    "https://bobbyhadz.com/blog/python-split-string-without-spaces#:~:text=To%20split%20a%20string%20without%20spaces%3A,into%20a%20list%20of%20integers.\n",
    "Borislav Hadzhiev\n",
    "\n",
    "https://www.geeksforgeeks.org/python-multiply-numbers-list-3-different-ways/\n",
    "\n",
    "https://docs.python.org/3/library/stdtypes.html?highlight=split#str.split"
   ]
  }
 ],
 "metadata": {
  "kernelspec": {
   "display_name": "Python 3",
   "language": "python",
   "name": "python3"
  },
  "language_info": {
   "codemirror_mode": {
    "name": "ipython",
    "version": 3
   },
   "file_extension": ".py",
   "mimetype": "text/x-python",
   "name": "python",
   "nbconvert_exporter": "python",
   "pygments_lexer": "ipython3",
   "version": "3.8.5"
  }
 },
 "nbformat": 4,
 "nbformat_minor": 4
}
